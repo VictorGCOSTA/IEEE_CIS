{
 "cells": [
  {
   "cell_type": "code",
   "execution_count": 142,
   "metadata": {},
   "outputs": [
    {
     "name": "stdout",
     "output_type": "stream",
     "text": [
      "User ID              0\n",
      "Subscription Type    0\n",
      "Monthly Revenue      0\n",
      "Join Date            0\n",
      "Last Payment Date    0\n",
      "Country              0\n",
      "Age                  0\n",
      "Gender               0\n",
      "Device               0\n",
      "Plan Duration        0\n",
      "dtype: int64\n",
      "<class 'pandas.core.frame.DataFrame'>\n",
      "RangeIndex: 70 entries, 0 to 69\n",
      "Data columns (total 10 columns):\n",
      " #   Column             Non-Null Count  Dtype \n",
      "---  ------             --------------  ----- \n",
      " 0   User ID            70 non-null     int64 \n",
      " 1   Subscription Type  70 non-null     object\n",
      " 2   Monthly Revenue    70 non-null     int64 \n",
      " 3   Join Date          70 non-null     object\n",
      " 4   Last Payment Date  70 non-null     object\n",
      " 5   Country            70 non-null     object\n",
      " 6   Age                70 non-null     int64 \n",
      " 7   Gender             70 non-null     object\n",
      " 8   Device             70 non-null     object\n",
      " 9   Plan Duration      70 non-null     object\n",
      "dtypes: int64(3), object(7)\n",
      "memory usage: 5.6+ KB\n"
     ]
    }
   ],
   "source": [
    "import pandas as pd\n",
    "from sklearn.linear_model import LogisticRegression\n",
    "from sklearn.model_selection import train_test_split\n",
    "from sklearn.preprocessing import StandardScaler, MinMaxScaler\n",
    "from sklearn import metrics\n",
    "from sklearn.decomposition import PCA\n",
    "from sklearn.neighbors import KNeighborsClassifier\n",
    "from matplotlib import pyplot as plt\n",
    "netflix_db = pd.read_csv(\"./NetflixUserbase.csv\")\n",
    "# Verificando algumas informações básicas do dataset\n",
    "columns = netflix_db.columns\n",
    "print(netflix_db.isnull().sum())\n",
    "netflix_db.info()"
   ]
  },
  {
   "cell_type": "code",
   "execution_count": 143,
   "metadata": {},
   "outputs": [
    {
     "data": {
      "text/plain": [
       "<Axes: xlabel='Country'>"
      ]
     },
     "execution_count": 143,
     "metadata": {},
     "output_type": "execute_result"
    },
    {
     "data": {
      "image/png": "[encoded data removed]",
      "text/plain": [
       "<Figure size 640x480 with 1 Axes>"
      ]
     },
     "metadata": {},
     "output_type": "display_data"
    }
   ],
   "source": [
    "netflix_db.groupby('Country')[['Monthly Revenue']].mean().sort_values('Monthly Revenue').plot(kind='bar')\n",
    "\n",
    "#Aqui é possivel observar a média da receita mensal separada por países onde é possivel observar que a França possui a receita mensal maior e o Brasil a menor"
   ]
  },
  {
   "cell_type": "code",
   "execution_count": 144,
   "metadata": {},
   "outputs": [
    {
     "name": "stdout",
     "output_type": "stream",
     "text": [
      "36.6 36.0\n",
      "26\n",
      "51\n",
      "Country\n",
      "United States     28.857143\n",
      "Spain             31.857143\n",
      "Australia         32.142857\n",
      "France            32.571429\n",
      "Mexico            35.142857\n",
      "Canada            37.857143\n",
      "Germany           38.857143\n",
      "United Kingdom    42.571429\n",
      "Brazil            42.857143\n",
      "Italy             43.285714\n",
      "Name: Age, dtype: float64\n"
     ]
    }
   ],
   "source": [
    "#Aqui é possível observar que a média e a mediana da idade são bem próximas (36)\n",
    "print(netflix_db['Age'].mean(), netflix_db['Age'].median())\n",
    "#É possível observar que o dataset trás indivíduos com idades entre 26 e 51 anos\n",
    "print(netflix_db['Age'].min()) \n",
    "print(netflix_db['Age'].max())\n",
    "#A itália possui a maior idade média enquanto os estados unidos poussi a menor\n",
    "print(netflix_db.groupby('Country')['Age'].mean().sort_values())"
   ]
  },
  {
   "cell_type": "code",
   "execution_count": 145,
   "metadata": {},
   "outputs": [
    {
     "name": "stdout",
     "output_type": "stream",
     "text": [
      "['Basic' 'Premium' 'Standard']\n",
      "(27, 10)\n",
      "(21, 10)\n",
      "(22, 10)\n"
     ]
    }
   ],
   "source": [
    "#Tipos de assinaturas\n",
    "print(netflix_db['Subscription Type'].unique())\n",
    "print(netflix_db.query('`Subscription Type` == \"Basic\"').shape)\n",
    "print(netflix_db.query('`Subscription Type` == \"Premium\"').shape)\n",
    "print(netflix_db.query('`Subscription Type` == \"Standard\"').shape)\n",
    "#O tipo de assinatura preferida é a Básica"
   ]
  },
  {
   "cell_type": "code",
   "execution_count": 146,
   "metadata": {},
   "outputs": [
    {
     "name": "stdout",
     "output_type": "stream",
     "text": [
      "Index(['Diabetes_012', 'HighBP', 'HighChol', 'CholCheck', 'BMI', 'Smoker',\n",
      "       'Stroke', 'HeartDiseaseorAttack', 'PhysActivity', 'Fruits', 'Veggies',\n",
      "       'HvyAlcoholConsump', 'AnyHealthcare', 'NoDocbcCost', 'GenHlth',\n",
      "       'MentHlth', 'PhysHlth', 'DiffWalk', 'Sex', 'Age', 'Education',\n",
      "       'Income'],\n",
      "      dtype='object')\n",
      "        Diabetes_012  HighBP  HighChol  CholCheck   BMI  Smoker  Stroke  \\\n",
      "0                0.0     1.0       1.0        1.0  40.0     1.0     0.0   \n",
      "1                0.0     0.0       0.0        0.0  25.0     1.0     0.0   \n",
      "2                0.0     1.0       1.0        1.0  28.0     0.0     0.0   \n",
      "3                0.0     1.0       0.0        1.0  27.0     0.0     0.0   \n",
      "4                0.0     1.0       1.0        1.0  24.0     0.0     0.0   \n",
      "...              ...     ...       ...        ...   ...     ...     ...   \n",
      "253675           0.0     1.0       1.0        1.0  45.0     0.0     0.0   \n",
      "253676           2.0     1.0       1.0        1.0  18.0     0.0     0.0   \n",
      "253677           0.0     0.0       0.0        1.0  28.0     0.0     0.0   \n",
      "253678           0.0     1.0       0.0        1.0  23.0     0.0     0.0   \n",
      "253679           2.0     1.0       1.0        1.0  25.0     0.0     0.0   \n",
      "\n",
      "        HeartDiseaseorAttack  PhysActivity  Fruits  ...  AnyHealthcare  \\\n",
      "0                        0.0           0.0     0.0  ...            1.0   \n",
      "1                        0.0           1.0     0.0  ...            0.0   \n",
      "2                        0.0           0.0     1.0  ...            1.0   \n",
      "3                        0.0           1.0     1.0  ...            1.0   \n",
      "4                        0.0           1.0     1.0  ...            1.0   \n",
      "...                      ...           ...     ...  ...            ...   \n",
      "253675                   0.0           0.0     1.0  ...            1.0   \n",
      "253676                   0.0           0.0     0.0  ...            1.0   \n",
      "253677                   0.0           1.0     1.0  ...            1.0   \n",
      "253678                   0.0           0.0     1.0  ...            1.0   \n",
      "253679                   1.0           1.0     1.0  ...            1.0   \n",
      "\n",
      "        NoDocbcCost  GenHlth  MentHlth  PhysHlth  DiffWalk  Sex   Age  \\\n",
      "0               0.0      5.0      18.0      15.0       1.0  0.0   9.0   \n",
      "1               1.0      3.0       0.0       0.0       0.0  0.0   7.0   \n",
      "2               1.0      5.0      30.0      30.0       1.0  0.0   9.0   \n",
      "3               0.0      2.0       0.0       0.0       0.0  0.0  11.0   \n",
      "4               0.0      2.0       3.0       0.0       0.0  0.0  11.0   \n",
      "...             ...      ...       ...       ...       ...  ...   ...   \n",
      "253675          0.0      3.0       0.0       5.0       0.0  1.0   5.0   \n",
      "253676          0.0      4.0       0.0       0.0       1.0  0.0  11.0   \n",
      "253677          0.0      1.0       0.0       0.0       0.0  0.0   2.0   \n",
      "253678          0.0      3.0       0.0       0.0       0.0  1.0   7.0   \n",
      "253679          0.0      2.0       0.0       0.0       0.0  0.0   9.0   \n",
      "\n",
      "        Education  Income  \n",
      "0             4.0     3.0  \n",
      "1             6.0     1.0  \n",
      "2             4.0     8.0  \n",
      "3             3.0     6.0  \n",
      "4             5.0     4.0  \n",
      "...           ...     ...  \n",
      "253675        6.0     7.0  \n",
      "253676        2.0     4.0  \n",
      "253677        5.0     2.0  \n",
      "253678        5.0     1.0  \n",
      "253679        6.0     2.0  \n",
      "\n",
      "[253680 rows x 22 columns]\n",
      "Maximo 98.0\n",
      "Maximo 12.0\n",
      "Media 28.382363607694735\n",
      "Mediana 27.0\n",
      "0         18.0\n",
      "1          0.0\n",
      "2         30.0\n",
      "3          0.0\n",
      "4          3.0\n",
      "          ... \n",
      "253675     0.0\n",
      "253676     0.0\n",
      "253677     0.0\n",
      "253678     0.0\n",
      "253679     0.0\n",
      "Name: MentHlth, Length: 253680, dtype: float64\n",
      "0         15.0\n",
      "1          0.0\n",
      "2         30.0\n",
      "3          0.0\n",
      "4          0.0\n",
      "          ... \n",
      "253675     5.0\n",
      "253676     0.0\n",
      "253677     0.0\n",
      "253678     0.0\n",
      "253679     0.0\n",
      "Name: PhysHlth, Length: 253680, dtype: float64\n"
     ]
    }
   ],
   "source": [
    "#Normalização dos dados\n",
    "diabetes = pd.read_csv(\"./diabetes_012_health_indicators_BRFSS2015.csv\")\n",
    "print(diabetes.columns)\n",
    "print(diabetes)\n",
    "print(f\"Maximo {max(diabetes['BMI'])}\")\n",
    "print(f\"Maximo {min(diabetes['BMI'])}\")\n",
    "print(f\"Media {diabetes['BMI'].mean()}\")\n",
    "print(f\"Mediana {diabetes['BMI'].median()}\")\n",
    "print(diabetes['MentHlth'])\n",
    "print(diabetes['PhysHlth'])\n",
    "#diabetes.info()"
   ]
  },
  {
   "cell_type": "code",
   "execution_count": 147,
   "metadata": {},
   "outputs": [
    {
     "name": "stdout",
     "output_type": "stream",
     "text": [
      "0.8394302533375381\n"
     ]
    },
    {
     "name": "stderr",
     "output_type": "stream",
     "text": [
      "c:\\Users\\vh_co\\AppData\\Local\\Programs\\Python\\Python310\\lib\\site-packages\\sklearn\\linear_model\\_logistic.py:460: ConvergenceWarning: lbfgs failed to converge (status=1):\n",
      "STOP: TOTAL NO. of ITERATIONS REACHED LIMIT.\n",
      "\n",
      "Increase the number of iterations (max_iter) or scale the data as shown in:\n",
      "    https://scikit-learn.org/stable/modules/preprocessing.html\n",
      "Please also refer to the documentation for alternative solver options:\n",
      "    https://scikit-learn.org/stable/modules/linear_model.html#logistic-regression\n",
      "  n_iter_i = _check_optimize_result(\n"
     ]
    }
   ],
   "source": [
    "x = diabetes[['BMI', 'Smoker', 'PhysActivity', 'Age']]\n",
    "y = diabetes['Diabetes_012']\n",
    "x_train,x_test,y_train,y_test = train_test_split(x,y,test_size=0.15,random_state=0)\n",
    "logistic_regression = LogisticRegression()\n",
    "logistic_regression.fit(x_train,y_train)\n",
    "y_pred = logistic_regression.predict(x_test)\n",
    "print(metrics.accuracy_score(y_test,y_pred))"
   ]
  },
  {
   "cell_type": "code",
   "execution_count": 148,
   "metadata": {},
   "outputs": [
    {
     "name": "stdout",
     "output_type": "stream",
     "text": [
      "Maximo 1.0\n",
      "Maximo 0.0\n",
      "Media 0.19049260008947363\n",
      "Mediana 0.1744186046511628\n"
     ]
    }
   ],
   "source": [
    "diabetes['BMI'] = (diabetes ['BMI'] - min(diabetes['BMI']))/(max(diabetes['BMI']) -min(diabetes['BMI']))\n",
    "#diabetes['Age'] = (diabetes ['Age'] - min(diabetes['Age']))/(max(diabetes['Age']) -min(diabetes['Age']))\n",
    "print(f\"Maximo {max(diabetes['BMI'])}\")\n",
    "print(f\"Maximo {min(diabetes['BMI'])}\")\n",
    "print(f\"Media {diabetes['BMI'].mean()}\")\n",
    "print(f\"Mediana {diabetes['BMI'].median()}\")\n"
   ]
  },
  {
   "cell_type": "code",
   "execution_count": 149,
   "metadata": {},
   "outputs": [
    {
     "name": "stdout",
     "output_type": "stream",
     "text": [
      "0.8391411752338904\n"
     ]
    },
    {
     "name": "stderr",
     "output_type": "stream",
     "text": [
      "c:\\Users\\vh_co\\AppData\\Local\\Programs\\Python\\Python310\\lib\\site-packages\\sklearn\\linear_model\\_logistic.py:460: ConvergenceWarning: lbfgs failed to converge (status=1):\n",
      "STOP: TOTAL NO. of ITERATIONS REACHED LIMIT.\n",
      "\n",
      "Increase the number of iterations (max_iter) or scale the data as shown in:\n",
      "    https://scikit-learn.org/stable/modules/preprocessing.html\n",
      "Please also refer to the documentation for alternative solver options:\n",
      "    https://scikit-learn.org/stable/modules/linear_model.html#logistic-regression\n",
      "  n_iter_i = _check_optimize_result(\n"
     ]
    }
   ],
   "source": [
    "x = diabetes[['BMI', 'Smoker', 'PhysActivity', 'Age']]\n",
    "y = diabetes['Diabetes_012']\n",
    "x_train,x_test,y_train,y_test = train_test_split(x,y,test_size=0.15,random_state=0)\n",
    "logistic_regression = LogisticRegression()\n",
    "logistic_regression.fit(x_train,y_train)\n",
    "y_pred = logistic_regression.predict(x_test)\n",
    "print(metrics.accuracy_score(y_test,y_pred))"
   ]
  },
  {
   "cell_type": "code",
   "execution_count": 150,
   "metadata": {},
   "outputs": [
    {
     "name": "stdout",
     "output_type": "stream",
     "text": [
      "[[ 0.23576188  0.49408129  0.42161491  0.02497492  0.03072183  0.28888783\n",
      "   0.06833099  0.16458542 -0.27366749 -0.18706411 -0.14264425 -0.00394996\n",
      "  -0.00228817  0.05535814  0.2415446   0.09379067  0.20061839  0.30778378\n",
      "   0.05893556  0.15093945 -0.09934328 -0.18492091]\n",
      " [-0.07162643 -0.19160857 -0.19228718 -0.03173301 -0.00087345  0.32354738\n",
      "  -0.01907585 -0.01483515 -0.04388721 -0.55798582 -0.23665164  0.03300183\n",
      "  -0.02881995 -0.00434549 -0.03832716 -0.02099626 -0.06101063 -0.11896522\n",
      "   0.64083419 -0.09927693 -0.01553026  0.05603195]\n",
      " [-0.04042859 -0.28961626 -0.37531413 -0.02614526  0.00462588 -0.01531021\n",
      "   0.00632993 -0.05533321 -0.35695646 -0.36722902 -0.21060123 -0.00243465\n",
      "  -0.04561847  0.10533538  0.10073479  0.12133624  0.143119    0.20246506\n",
      "  -0.56024257 -0.09238604 -0.07852287 -0.18670216]]\n",
      "[0.17989983 0.10919673 0.1018829 ]\n",
      "[[ 1.54409944 -0.15520816  0.75207631]\n",
      " [-0.07246511  0.65353922  1.08717758]\n",
      " [ 1.26762988 -0.80273934  0.70301372]\n",
      " ...\n",
      " [-0.7702342  -0.21296538  0.53550087]\n",
      " [ 0.12209866 -0.02519253 -0.12975013]\n",
      " [ 0.67330929 -0.75405341 -0.26974041]]\n"
     ]
    }
   ],
   "source": [
    "#Redução da dimensionalidade dos dados - PCA\n",
    "#Normalizando todos os dados do dataset\n",
    "scaler = MinMaxScaler()\n",
    "dados_normalizados = scaler.fit_transform(diabetes)\n",
    "pca = PCA(n_components=3) #Definindo número de componentes\n",
    "dados_pca = pca.fit_transform(dados_normalizados)\n",
    "print(pca.components_)\n",
    "print(pca.explained_variance_ratio_)\n",
    "print(dados_pca)"
   ]
  },
  {
   "cell_type": "code",
   "execution_count": 184,
   "metadata": {},
   "outputs": [
    {
     "name": "stdout",
     "output_type": "stream",
     "text": [
      "Acurácia:  0.8396404919583728\n"
     ]
    }
   ],
   "source": [
    "#Sem a normalização dos dados\n",
    "diabetes = pd.read_csv(\"./diabetes_012_health_indicators_BRFSS2015.csv\")\n",
    "x = diabetes[['BMI', 'Smoker', 'PhysActivity', 'Age']]\n",
    "y = diabetes['Diabetes_012']\n",
    "x_train,x_test,y_train,y_test = train_test_split(x,y,test_size=0.15,random_state=0)\n",
    "knn = KNeighborsClassifier(n_neighbors=50)\n",
    "knn.fit(x_train, y_train)\n",
    "y_pred = knn.predict(x_test)\n",
    "accuracy = metrics.accuracy_score(y_test, y_pred)\n",
    "print(\"Acurácia: \", accuracy)"
   ]
  },
  {
   "cell_type": "code",
   "execution_count": 185,
   "metadata": {},
   "outputs": [
    {
     "name": "stdout",
     "output_type": "stream",
     "text": [
      "Acurácia:  0.8404814464417113\n"
     ]
    }
   ],
   "source": [
    "#Com normalização\n",
    "diabetes = pd.read_csv(\"./diabetes_012_health_indicators_BRFSS2015.csv\")\n",
    "diabetes = diabetes[['Diabetes_012','BMI', 'Smoker', 'PhysActivity', 'Age']]\n",
    "diabetes['BMI'] = (diabetes ['BMI'] - min(diabetes['BMI']))/(max(diabetes['BMI']) -min(diabetes['BMI']))\n",
    "diabetes['Age'] = (diabetes ['Age'] - min(diabetes['Age']))/(max(diabetes['Age']) -min(diabetes['Age']))\n",
    "diabetes['PhysActivity'] = (diabetes ['PhysActivity'] - min(diabetes['PhysActivity']))/(max(diabetes['PhysActivity']) -min(diabetes['PhysActivity']))\n",
    "x = diabetes[['BMI', 'Smoker', 'PhysActivity', 'Age']]\n",
    "y = diabetes['Diabetes_012']\n",
    "x_train,x_test,y_train,y_test = train_test_split(x,y,test_size=0.15,random_state=0)\n",
    "knn = KNeighborsClassifier(n_neighbors=50)\n",
    "knn.fit(x_train, y_train)\n",
    "y_pred = knn.predict(x_test)\n",
    "accuracy = metrics.accuracy_score(y_test, y_pred)\n",
    "print(\"Acurácia: \", accuracy)\n"
   ]
  },
  {
   "cell_type": "code",
   "execution_count": null,
   "metadata": {},
   "outputs": [],
   "source": []
  }
 ],
 "metadata": {
  "kernelspec": {
   "display_name": "Python 3",
   "language": "python",
   "name": "python3"
  },
  "language_info": {
   "codemirror_mode": {
    "name": "ipython",
    "version": 3
   },
   "file_extension": ".py",
   "mimetype": "text/x-python",
   "name": "python",
   "nbconvert_exporter": "python",
   "pygments_lexer": "ipython3",
   "version": "3.10.11"
  },
  "orig_nbformat": 4
 },
 "nbformat": 4,
 "nbformat_minor": 2
}
