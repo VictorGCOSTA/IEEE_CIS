{
 "cells": [
  {
   "cell_type": "code",
   "execution_count": 2,
   "metadata": {},
   "outputs": [],
   "source": [
    "import numpy as np\n",
    "import matplotlib.pyplot as plt\n",
    "import sklearn.datasets as datasets\n",
    "import sklearn.model_selection as model_selection"
   ]
  },
  {
   "cell_type": "code",
   "execution_count": 4,
   "metadata": {},
   "outputs": [],
   "source": [
    "#O algoritmo KNN (k-Nearest Neighbors) é um algoritmo de aprendizado de máquina que classifica ou faz previsões com base na proximidade dos vizinhos mais próximos. Ele armazena um conjunto de pontos de treinamento com seus rótulos correspondentes.\n",
    "\n",
    "#Implementando o KNN usando numpy\n",
    "\n",
    "class KNN:\n",
    "    #Definindo numeros de vizinhos e elementos de treinamento\n",
    "    def __init__(self, k, X_train, y_train):\n",
    "        self.k = k \n",
    "        self.X_train = X_train\n",
    "        self.y_train = y_train\n",
    "    #Calcular a distância euclidiana\n",
    "    def distancia(self, n1, n2):\n",
    "        distance = np.linalg.norm(n1-n2)\n",
    "        return distance\n",
    "    \n",
    "    #Retornar os K vizinhos mais próximos de value\n",
    "    def get_neighbors(self, value):\n",
    "        distances = []\n",
    "        for x in self.X_train:\n",
    "            distances.append(self.distancia(value,x))\n",
    "        distances = np.asarray(distances)\n",
    "        indices = np.argpartition(distances, self.k)\n",
    "        k_first = indices[:self.k]\n",
    "        return k_first\n",
    "    \n",
    "    #Realizando a previsão de um elemento dado o conjunto de treinamento\n",
    "    def predict(self, value):\n",
    "        knn_indices = self.get_neighbors(value)\n",
    "        knn_labels=[]\n",
    "        for i in knn_indices:\n",
    "            knn_labels.append(self.y_train[i])\n",
    "        occurrences = np.bincount(knn_labels)\n",
    "        node=np.argmax(occurrences)\n",
    "        return node\n",
    "    \n",
    "    #Retornar a acurácia\n",
    "    def accuracy(self, y_test, predictions):\n",
    "        correct = y_test == predictions\n",
    "        acc = (np.sum(correct) / y_test.shape[0])*100\n",
    "        return acc"
   ]
  },
  {
   "cell_type": "code",
   "execution_count": 9,
   "metadata": {},
   "outputs": [
    {
     "name": "stdout",
     "output_type": "stream",
     "text": [
      "Acuracia de 93.33333333333333% (Classe implementada por mim)\n",
      "Acuracia de 93.33333333333333% (Utilizando SKLEARN)\n"
     ]
    }
   ],
   "source": [
    "#Testando classe acima\n",
    "X,y = datasets.load_iris(return_X_y=True) #Carregando o dataset iris\n",
    "X_train, X_test, y_train, y_test = model_selection.train_test_split(X,y,test_size=0.3, random_state=13) #Dividindo o dataset em treinamento e teste\n",
    "knn = KNN(10, X_train, y_train) #Instanciando o knn\n",
    "\n",
    "preds=[] #Variável que vai armazenar o resultado da previsão\n",
    "\n",
    "for x in X_test:\n",
    "    preds.append(knn.predict(x)) # Realizando a previsão em cada elemento de X_test e guardando em preds\n",
    "\n",
    "acc = knn.accuracy(y_test, preds) #Comparando resultados\n",
    "print(f\"Acuracia de {acc}% (Classe implementada por mim)\")\n",
    "\n",
    "#Comparando com o modelo do sklearn\n",
    "from sklearn.neighbors import KNeighborsClassifier\n",
    "from sklearn import metrics\n",
    "knnSKL = KNeighborsClassifier(n_neighbors=10)\n",
    "knnSKL.fit(X_train, y_train)\n",
    "y_pred = knnSKL.predict(X_test)\n",
    "acc = metrics.accuracy_score(y_test, y_pred)*100\n",
    "print(f\"Acuracia de {acc}% (Utilizando SKLEARN)\")\n",
    "\n",
    "\n",
    "\n"
   ]
  },
  {
   "cell_type": "code",
   "execution_count": null,
   "metadata": {},
   "outputs": [],
   "source": []
  }
 ],
 "metadata": {
  "kernelspec": {
   "display_name": "Python 3",
   "language": "python",
   "name": "python3"
  },
  "language_info": {
   "codemirror_mode": {
    "name": "ipython",
    "version": 3
   },
   "file_extension": ".py",
   "mimetype": "text/x-python",
   "name": "python",
   "nbconvert_exporter": "python",
   "pygments_lexer": "ipython3",
   "version": "3.10.11"
  },
  "orig_nbformat": 4
 },
 "nbformat": 4,
 "nbformat_minor": 2
}
